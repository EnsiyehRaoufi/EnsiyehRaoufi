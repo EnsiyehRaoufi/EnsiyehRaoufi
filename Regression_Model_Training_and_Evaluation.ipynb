{
  "nbformat": 4,
  "nbformat_minor": 0,
  "metadata": {
    "colab": {
      "name": "Regression_Model_Training_and_Evaluation.ipynb",
      "provenance": [],
      "authorship_tag": "ABX9TyPcDo/WBB7eBFNq/VBvM0ug",
      "include_colab_link": true
    },
    "kernelspec": {
      "name": "python3",
      "display_name": "Python 3"
    },
    "language_info": {
      "name": "python"
    }
  },
  "cells": [
    {
      "cell_type": "markdown",
      "metadata": {
        "id": "view-in-github",
        "colab_type": "text"
      },
      "source": [
        "<a href=\"https://colab.research.google.com/github/EnsiyehRaoufi/EnsiyehRaoufi/blob/main/Regression_Model_Training_and_Evaluation.ipynb\" target=\"_parent\"><img src=\"https://colab.research.google.com/assets/colab-badge.svg\" alt=\"Open In Colab\"/></a>"
      ]
    },
    {
      "cell_type": "markdown",
      "source": [
        "**Model Training and Evaluation**\n",
        "\n",
        "tasks for this exercise are:\n",
        "\n",
        "* Create a dataframe with the regression dataset, include the features and target within the same dataframe.\n",
        "* Create a 60% Train / 20% Validation / 20% Test dataset group using the train_test_split method.\n",
        "* Fit the LinearRegression model on the training set.\n",
        "* Evaluate the model on the validation set.\n",
        "* Evaluate the model on the test set"
      ],
      "metadata": {
        "id": "r2gAaI_78VUC"
      }
    },
    {
      "cell_type": "code",
      "execution_count": 1,
      "metadata": {
        "id": "r4vlFOES3pw0"
      },
      "outputs": [],
      "source": [
        "import pandas as pd\n",
        "from sklearn.datasets import make_regression\n",
        "from sklearn.model_selection import train_test_split\n",
        "from sklearn.linear_model import LinearRegression"
      ]
    },
    {
      "cell_type": "code",
      "source": [
        "#create a random dataset suitable for regression model\n",
        "regression_dataset = make_regression(\n",
        "    n_samples=10000,\n",
        "    n_features=10,\n",
        "    n_informative=5,\n",
        "    bias=0,\n",
        "    noise=40,\n",
        "    n_targets=1,\n",
        "    random_state=0,\n",
        ")"
      ],
      "metadata": {
        "id": "LZ9WsgFc8opB"
      },
      "execution_count": 3,
      "outputs": []
    },
    {
      "cell_type": "code",
      "source": [
        "regression_dataset"
      ],
      "metadata": {
        "colab": {
          "base_uri": "https://localhost:8080/"
        },
        "id": "NOJYmyV1-X-a",
        "outputId": "038c5b5b-df78-42df-8a82-b159f59f3a2b"
      },
      "execution_count": 7,
      "outputs": [
        {
          "output_type": "execute_result",
          "data": {
            "text/plain": [
              "(array([[-1.0393095 , -0.5332538 ,  0.00635223, ...,  0.3130869 ,\n",
              "          1.70931128,  1.48621738],\n",
              "        [ 0.90626807,  1.11210073, -0.81649958, ...,  0.99985447,\n",
              "         -1.91940127, -1.13703142],\n",
              "        [ 0.33413661,  0.32000434, -0.2482671 , ..., -0.65572504,\n",
              "          0.34086782, -1.48155053],\n",
              "        ...,\n",
              "        [ 2.49215744,  0.27015821, -0.13557691, ..., -0.25815086,\n",
              "          0.62398539,  0.82903174],\n",
              "        [ 1.35460444, -0.32465957, -0.24943232, ...,  1.10718622,\n",
              "          0.89528265,  0.35459303],\n",
              "        [-0.80626141, -0.28770278, -0.61294478, ..., -0.15531914,\n",
              "          0.04842427, -0.07609417]]),\n",
              " array([-190.33610853,   33.26438936,  120.28780477, ...,  109.9259898 ,\n",
              "          72.06473529, -100.54252085]))"
            ]
          },
          "metadata": {},
          "execution_count": 7
        }
      ]
    },
    {
      "cell_type": "code",
      "source": [
        "# Create the dataframe using the dataset\n",
        "df = pd.DataFrame(regression_dataset[0])\n",
        "df[\"target\"] = regression_dataset[1]"
      ],
      "metadata": {
        "id": "SXcM0RqV8two"
      },
      "execution_count": 9,
      "outputs": []
    },
    {
      "cell_type": "code",
      "source": [
        "# `.head()` to view what the dataset looks like\n",
        "df.head()"
      ],
      "metadata": {
        "colab": {
          "base_uri": "https://localhost:8080/",
          "height": 206
        },
        "id": "w3yXnDtq-BiV",
        "outputId": "aeba28b0-f248-464c-ce7c-e94732cf3aad"
      },
      "execution_count": 10,
      "outputs": [
        {
          "output_type": "execute_result",
          "data": {
            "text/html": [
              "\n",
              "  <div id=\"df-624d7790-e0bc-4d24-ab25-6d87d7a84820\">\n",
              "    <div class=\"colab-df-container\">\n",
              "      <div>\n",
              "<style scoped>\n",
              "    .dataframe tbody tr th:only-of-type {\n",
              "        vertical-align: middle;\n",
              "    }\n",
              "\n",
              "    .dataframe tbody tr th {\n",
              "        vertical-align: top;\n",
              "    }\n",
              "\n",
              "    .dataframe thead th {\n",
              "        text-align: right;\n",
              "    }\n",
              "</style>\n",
              "<table border=\"1\" class=\"dataframe\">\n",
              "  <thead>\n",
              "    <tr style=\"text-align: right;\">\n",
              "      <th></th>\n",
              "      <th>0</th>\n",
              "      <th>1</th>\n",
              "      <th>2</th>\n",
              "      <th>3</th>\n",
              "      <th>4</th>\n",
              "      <th>5</th>\n",
              "      <th>6</th>\n",
              "      <th>7</th>\n",
              "      <th>8</th>\n",
              "      <th>9</th>\n",
              "      <th>target</th>\n",
              "    </tr>\n",
              "  </thead>\n",
              "  <tbody>\n",
              "    <tr>\n",
              "      <th>0</th>\n",
              "      <td>-1.039309</td>\n",
              "      <td>-0.533254</td>\n",
              "      <td>0.006352</td>\n",
              "      <td>-0.130216</td>\n",
              "      <td>-0.672371</td>\n",
              "      <td>-1.227693</td>\n",
              "      <td>-1.605115</td>\n",
              "      <td>0.313087</td>\n",
              "      <td>1.709311</td>\n",
              "      <td>1.486217</td>\n",
              "      <td>-190.336109</td>\n",
              "    </tr>\n",
              "    <tr>\n",
              "      <th>1</th>\n",
              "      <td>0.906268</td>\n",
              "      <td>1.112101</td>\n",
              "      <td>-0.816500</td>\n",
              "      <td>0.461619</td>\n",
              "      <td>0.883569</td>\n",
              "      <td>1.125719</td>\n",
              "      <td>-0.993897</td>\n",
              "      <td>0.999854</td>\n",
              "      <td>-1.919401</td>\n",
              "      <td>-1.137031</td>\n",
              "      <td>33.264389</td>\n",
              "    </tr>\n",
              "    <tr>\n",
              "      <th>2</th>\n",
              "      <td>0.334137</td>\n",
              "      <td>0.320004</td>\n",
              "      <td>-0.248267</td>\n",
              "      <td>-0.317444</td>\n",
              "      <td>0.834343</td>\n",
              "      <td>1.381073</td>\n",
              "      <td>0.901058</td>\n",
              "      <td>-0.655725</td>\n",
              "      <td>0.340868</td>\n",
              "      <td>-1.481551</td>\n",
              "      <td>120.287805</td>\n",
              "    </tr>\n",
              "    <tr>\n",
              "      <th>3</th>\n",
              "      <td>0.250441</td>\n",
              "      <td>-1.215110</td>\n",
              "      <td>-1.562450</td>\n",
              "      <td>0.162566</td>\n",
              "      <td>-1.630155</td>\n",
              "      <td>-0.449801</td>\n",
              "      <td>-1.033361</td>\n",
              "      <td>-0.671750</td>\n",
              "      <td>-1.331549</td>\n",
              "      <td>-0.979638</td>\n",
              "      <td>-472.599566</td>\n",
              "    </tr>\n",
              "    <tr>\n",
              "      <th>4</th>\n",
              "      <td>-1.440993</td>\n",
              "      <td>-0.388298</td>\n",
              "      <td>-0.431737</td>\n",
              "      <td>0.518420</td>\n",
              "      <td>-0.405904</td>\n",
              "      <td>-0.785488</td>\n",
              "      <td>1.008090</td>\n",
              "      <td>-0.695019</td>\n",
              "      <td>1.885108</td>\n",
              "      <td>-0.913755</td>\n",
              "      <td>42.355214</td>\n",
              "    </tr>\n",
              "  </tbody>\n",
              "</table>\n",
              "</div>\n",
              "      <button class=\"colab-df-convert\" onclick=\"convertToInteractive('df-624d7790-e0bc-4d24-ab25-6d87d7a84820')\"\n",
              "              title=\"Convert this dataframe to an interactive table.\"\n",
              "              style=\"display:none;\">\n",
              "        \n",
              "  <svg xmlns=\"http://www.w3.org/2000/svg\" height=\"24px\"viewBox=\"0 0 24 24\"\n",
              "       width=\"24px\">\n",
              "    <path d=\"M0 0h24v24H0V0z\" fill=\"none\"/>\n",
              "    <path d=\"M18.56 5.44l.94 2.06.94-2.06 2.06-.94-2.06-.94-.94-2.06-.94 2.06-2.06.94zm-11 1L8.5 8.5l.94-2.06 2.06-.94-2.06-.94L8.5 2.5l-.94 2.06-2.06.94zm10 10l.94 2.06.94-2.06 2.06-.94-2.06-.94-.94-2.06-.94 2.06-2.06.94z\"/><path d=\"M17.41 7.96l-1.37-1.37c-.4-.4-.92-.59-1.43-.59-.52 0-1.04.2-1.43.59L10.3 9.45l-7.72 7.72c-.78.78-.78 2.05 0 2.83L4 21.41c.39.39.9.59 1.41.59.51 0 1.02-.2 1.41-.59l7.78-7.78 2.81-2.81c.8-.78.8-2.07 0-2.86zM5.41 20L4 18.59l7.72-7.72 1.47 1.35L5.41 20z\"/>\n",
              "  </svg>\n",
              "      </button>\n",
              "      \n",
              "  <style>\n",
              "    .colab-df-container {\n",
              "      display:flex;\n",
              "      flex-wrap:wrap;\n",
              "      gap: 12px;\n",
              "    }\n",
              "\n",
              "    .colab-df-convert {\n",
              "      background-color: #E8F0FE;\n",
              "      border: none;\n",
              "      border-radius: 50%;\n",
              "      cursor: pointer;\n",
              "      display: none;\n",
              "      fill: #1967D2;\n",
              "      height: 32px;\n",
              "      padding: 0 0 0 0;\n",
              "      width: 32px;\n",
              "    }\n",
              "\n",
              "    .colab-df-convert:hover {\n",
              "      background-color: #E2EBFA;\n",
              "      box-shadow: 0px 1px 2px rgba(60, 64, 67, 0.3), 0px 1px 3px 1px rgba(60, 64, 67, 0.15);\n",
              "      fill: #174EA6;\n",
              "    }\n",
              "\n",
              "    [theme=dark] .colab-df-convert {\n",
              "      background-color: #3B4455;\n",
              "      fill: #D2E3FC;\n",
              "    }\n",
              "\n",
              "    [theme=dark] .colab-df-convert:hover {\n",
              "      background-color: #434B5C;\n",
              "      box-shadow: 0px 1px 3px 1px rgba(0, 0, 0, 0.15);\n",
              "      filter: drop-shadow(0px 1px 2px rgba(0, 0, 0, 0.3));\n",
              "      fill: #FFFFFF;\n",
              "    }\n",
              "  </style>\n",
              "\n",
              "      <script>\n",
              "        const buttonEl =\n",
              "          document.querySelector('#df-624d7790-e0bc-4d24-ab25-6d87d7a84820 button.colab-df-convert');\n",
              "        buttonEl.style.display =\n",
              "          google.colab.kernel.accessAllowed ? 'block' : 'none';\n",
              "\n",
              "        async function convertToInteractive(key) {\n",
              "          const element = document.querySelector('#df-624d7790-e0bc-4d24-ab25-6d87d7a84820');\n",
              "          const dataTable =\n",
              "            await google.colab.kernel.invokeFunction('convertToInteractive',\n",
              "                                                     [key], {});\n",
              "          if (!dataTable) return;\n",
              "\n",
              "          const docLinkHtml = 'Like what you see? Visit the ' +\n",
              "            '<a target=\"_blank\" href=https://colab.research.google.com/notebooks/data_table.ipynb>data table notebook</a>'\n",
              "            + ' to learn more about interactive tables.';\n",
              "          element.innerHTML = '';\n",
              "          dataTable['output_type'] = 'display_data';\n",
              "          await google.colab.output.renderOutput(dataTable, element);\n",
              "          const docLink = document.createElement('div');\n",
              "          docLink.innerHTML = docLinkHtml;\n",
              "          element.appendChild(docLink);\n",
              "        }\n",
              "      </script>\n",
              "    </div>\n",
              "  </div>\n",
              "  "
            ],
            "text/plain": [
              "          0         1         2  ...         8         9      target\n",
              "0 -1.039309 -0.533254  0.006352  ...  1.709311  1.486217 -190.336109\n",
              "1  0.906268  1.112101 -0.816500  ... -1.919401 -1.137031   33.264389\n",
              "2  0.334137  0.320004 -0.248267  ...  0.340868 -1.481551  120.287805\n",
              "3  0.250441 -1.215110 -1.562450  ... -1.331549 -0.979638 -472.599566\n",
              "4 -1.440993 -0.388298 -0.431737  ...  1.885108 -0.913755   42.355214\n",
              "\n",
              "[5 rows x 11 columns]"
            ]
          },
          "metadata": {},
          "execution_count": 10
        }
      ]
    },
    {
      "cell_type": "code",
      "source": [
        "features_list = df.columns.to_list()\n",
        "features_list.pop()\n",
        "features_list"
      ],
      "metadata": {
        "colab": {
          "base_uri": "https://localhost:8080/"
        },
        "id": "zgu2GNRVBBTH",
        "outputId": "725c20c7-9310-4b14-aec7-fcde99572f6f"
      },
      "execution_count": 19,
      "outputs": [
        {
          "output_type": "execute_result",
          "data": {
            "text/plain": [
              "[0, 1, 2, 3, 4, 5, 6, 7, 8, 9]"
            ]
          },
          "metadata": {},
          "execution_count": 19
        }
      ]
    },
    {
      "cell_type": "code",
      "source": [
        "# train: 0.8 | test: 0.2\n",
        "df_train, df_test = train_test_split(df, test_size=0.2, random_state=0)\n",
        "\n",
        "# train: 0.6 | validation: 0.2\n",
        "df_train, df_val = train_test_split(df_train, test_size=0.2, random_state=0)\n",
        "\n",
        "# Final dataset sizes: train: 0.6, validation: 0.2, text: 0.2,"
      ],
      "metadata": {
        "id": "MEjBBpzu_HoS"
      },
      "execution_count": 28,
      "outputs": []
    },
    {
      "cell_type": "code",
      "source": [
        "# Output each shape to confirm the size of train/validation/test\n",
        "print(f\"Train: {df_train.shape}\")\n",
        "print(f\"Validation: {df_val.shape}\")\n",
        "print(f\"Test: {df_test.shape}\")\n",
        "df_train.shape"
      ],
      "metadata": {
        "colab": {
          "base_uri": "https://localhost:8080/"
        },
        "id": "BPCXSfI9_inj",
        "outputId": "e9da4c18-3a6b-4997-b8c0-34db243f6b02"
      },
      "execution_count": 29,
      "outputs": [
        {
          "output_type": "stream",
          "name": "stdout",
          "text": [
            "Train: (6400, 11)\n",
            "Validation: (1600, 11)\n",
            "Test: (2000, 11)\n"
          ]
        },
        {
          "output_type": "execute_result",
          "data": {
            "text/plain": [
              "(6400, 11)"
            ]
          },
          "metadata": {},
          "execution_count": 29
        }
      ]
    },
    {
      "cell_type": "code",
      "source": [
        "# Train the linear model by fitting it on the dataframe features and dataframe target\n",
        "reg = LinearRegression().fit(df_train[features_list], df_train['target'])"
      ],
      "metadata": {
        "id": "eaeKNSqL_l3l"
      },
      "execution_count": 30,
      "outputs": []
    },
    {
      "cell_type": "code",
      "source": [
        "# Evaluate the linear model by scoring it, by default it's the metric r2.\n",
        "reg.score(df_val[features_list], df_val['target'])"
      ],
      "metadata": {
        "colab": {
          "base_uri": "https://localhost:8080/"
        },
        "id": "Qcr-4GBx_wLL",
        "outputId": "04cc98a4-fcb3-4790-9686-2514bbcfa78c"
      },
      "execution_count": 31,
      "outputs": [
        {
          "output_type": "execute_result",
          "data": {
            "text/plain": [
              "0.9353449491692246"
            ]
          },
          "metadata": {},
          "execution_count": 31
        }
      ]
    },
    {
      "cell_type": "code",
      "source": [
        "# Once done optimizing the model using the validation dataset,\n",
        "# Evaluate the linear model by scoring it on the test dataset.\n",
        "reg.score(df_test[features_list], df_test['target'])"
      ],
      "metadata": {
        "colab": {
          "base_uri": "https://localhost:8080/"
        },
        "id": "5rlUHS3WCs42",
        "outputId": "90e9a174-3de3-43e0-dcad-a5a16a34d280"
      },
      "execution_count": 32,
      "outputs": [
        {
          "output_type": "execute_result",
          "data": {
            "text/plain": [
              "0.9324411013255263"
            ]
          },
          "metadata": {},
          "execution_count": 32
        }
      ]
    }
  ]
}