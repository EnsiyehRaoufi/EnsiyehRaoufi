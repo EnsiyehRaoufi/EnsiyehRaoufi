{
  "nbformat": 4,
  "nbformat_minor": 0,
  "metadata": {
    "colab": {
      "name": "split_data_sklearn.ipynb",
      "provenance": [],
      "authorship_tag": "ABX9TyN38ifb72a3daSlpfcDWgkW",
      "include_colab_link": true
    },
    "kernelspec": {
      "name": "python3",
      "display_name": "Python 3"
    },
    "language_info": {
      "name": "python"
    }
  },
  "cells": [
    {
      "cell_type": "markdown",
      "metadata": {
        "id": "view-in-github",
        "colab_type": "text"
      },
      "source": [
        "<a href=\"https://colab.research.google.com/github/EnsiyehRaoufi/EnsiyehRaoufi/blob/main/split_data_sklearn.ipynb\" target=\"_parent\"><img src=\"https://colab.research.google.com/assets/colab-badge.svg\" alt=\"Open In Colab\"/></a>"
      ]
    },
    {
      "cell_type": "markdown",
      "source": [
        "Code Example of Splitting Data"
      ],
      "metadata": {
        "id": "tyDZgaLW_4vx"
      }
    },
    {
      "cell_type": "code",
      "execution_count": 1,
      "metadata": {
        "colab": {
          "base_uri": "https://localhost:8080/"
        },
        "id": "GJYBiB1M_3H3",
        "outputId": "ad2fe3f9-11cb-4e55-87ff-e7c2ef0c5edd"
      },
      "outputs": [
        {
          "output_type": "stream",
          "name": "stdout",
          "text": [
            "   0  1\n",
            "3  7  8\n",
            "1  3  4\n",
            "0  1  2\n",
            "   0  1\n",
            "2  5  6\n"
          ]
        }
      ],
      "source": [
        "import pandas as pd\n",
        "from sklearn.model_selection import train_test_split\n",
        "\n",
        "df = pd.DataFrame([[1, 2], [3, 4], [5, 6], [7, 8]])\n",
        "\n",
        "df_train, df_test = train_test_split(\n",
        "    df,\n",
        "    test_size=0.2, # 20% goes to test\n",
        "    random_state=0 # makes splitting data repeatable\n",
        ")\n",
        "print(df_train)\n",
        "print(df_test)\n"
      ]
    }
  ]
}