{
  "cells": [
    {
      "cell_type": "markdown",
      "metadata": {},
      "source": [
        "Learn how to use KMeans for modelling"
      ]
    },
    {
      "cell_type": "code",
      "execution_count": 1,
      "metadata": {
        "colab": {
          "base_uri": "https://localhost:8080/"
        },
        "id": "fdSap4MOeGnL",
        "outputId": "6bd17c14-7155-4020-b981-9155bc7b57b1"
      },
      "outputs": [
        {
          "name": "stdout",
          "output_type": "stream",
          "text": [
            "[2 0 1]\n",
            "0.0\n"
          ]
        }
      ],
      "source": [
        "from sklearn.cluster import KMeans\n",
        "\n",
        "features = [[5, 3.4, 6], [1, 0.4, 10], [2, 0.1, 1]]\n",
        "# Cluster into 3 groups\n",
        "kmeans = KMeans(n_clusters=3).fit(features)\n",
        "\n",
        "# Prints which data point belongs to which cluster group\n",
        "print(kmeans.labels_)\n",
        "# Prints the metric of how clustering performed\n",
        "print(kmeans.inertia_)"
      ]
    }
  ],
  "metadata": {
    "colab": {
      "name": "aws-unsupervised-kmeans.ipynb",
      "provenance": []
    },
    "kernelspec": {
      "display_name": "Python 3",
      "name": "python3"
    },
    "language_info": {
      "name": "python"
    }
  },
  "nbformat": 4,
  "nbformat_minor": 0
}
