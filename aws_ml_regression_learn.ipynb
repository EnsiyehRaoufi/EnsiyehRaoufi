{
  "cells": [
    {
      "cell_type": "markdown",
      "metadata": {},
      "source": [
        "Learn how to use a linear regression model to predict"
      ]
    },
    {
      "cell_type": "code",
      "execution_count": 1,
      "metadata": {
        "colab": {
          "base_uri": "https://localhost:8080/"
        },
        "id": "GdcBhhgYc7oE",
        "outputId": "c366fc12-ae4b-4020-8640-ccf6fd06f7bf"
      },
      "outputs": [
        {
          "name": "stdout",
          "output_type": "stream",
          "text": [
            "1.0\n",
            "[1.4 0.5 1. ]\n"
          ]
        }
      ],
      "source": [
        "from sklearn.linear_model import LinearRegression\n",
        "\n",
        "features = [[5, 3.4, 6], [1, 0.4, 10], [2, 0.1, 1]]\n",
        "target = [1.4, 0.5, 1]\n",
        "\n",
        "reg = LinearRegression().fit(features, target)\n",
        "\n",
        "# Score model with features and target\n",
        "print(reg.score(features, target))\n",
        "# Predict new values based on features\n",
        "print(reg.predict(features))\n"
      ]
    }
  ],
  "metadata": {
    "colab": {
      "name": "aws-ml-regression-learn.ipynb",
      "provenance": []
    },
    "kernelspec": {
      "display_name": "Python 3",
      "name": "python3"
    },
    "language_info": {
      "name": "python"
    }
  },
  "nbformat": 4,
  "nbformat_minor": 0
}
