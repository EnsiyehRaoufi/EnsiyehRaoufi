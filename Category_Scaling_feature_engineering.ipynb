{
  "nbformat": 4,
  "nbformat_minor": 0,
  "metadata": {
    "colab": {
      "name": "Category_Scaling_feature_engineering.ipynb",
      "provenance": [],
      "authorship_tag": "ABX9TyMhG9245DGzUqZOZVB6SXb7",
      "include_colab_link": true
    },
    "kernelspec": {
      "name": "python3",
      "display_name": "Python 3"
    },
    "language_info": {
      "name": "python"
    }
  },
  "cells": [
    {
      "cell_type": "markdown",
      "metadata": {
        "id": "view-in-github",
        "colab_type": "text"
      },
      "source": [
        "<a href=\"https://colab.research.google.com/github/EnsiyehRaoufi/EnsiyehRaoufi/blob/main/Category_Scaling_feature_engineering.ipynb\" target=\"_parent\"><img src=\"https://colab.research.google.com/assets/colab-badge.svg\" alt=\"Open In Colab\"/></a>"
      ]
    },
    {
      "cell_type": "markdown",
      "source": [
        "**Feature Engineering**\n",
        "\n",
        "Feature engineering is useful to create a robust dataset and increase the effectiveness of a model. Generally, they modify or extend the current features in a data set with additional insights or data."
      ],
      "metadata": {
        "id": "27tQJHmQKcIl"
      }
    },
    {
      "cell_type": "code",
      "execution_count": 7,
      "metadata": {
        "colab": {
          "base_uri": "https://localhost:8080/"
        },
        "id": "mlx3MYrQJ6vg",
        "outputId": "e7152fea-8f52-470b-96b3-2459f5951cb2"
      },
      "outputs": [
        {
          "output_type": "stream",
          "name": "stdout",
          "text": [
            "<class 'pandas.core.frame.DataFrame'>\n",
            "RangeIndex: 9 entries, 0 to 8\n",
            "Data columns (total 3 columns):\n",
            " #   Column  Non-Null Count  Dtype  \n",
            "---  ------  --------------  -----  \n",
            " 0   animal  9 non-null      object \n",
            " 1   value   9 non-null      float64\n",
            " 2   date    9 non-null      object \n",
            "dtypes: float64(1), object(2)\n",
            "memory usage: 344.0+ bytes\n"
          ]
        }
      ],
      "source": [
        "import pandas as pd\n",
        "\n",
        "# Creating a mixed dataset of strings, floats, and date strings\n",
        "df = pd.DataFrame(\n",
        "    [\n",
        "        [\"cat\", 1.0, \"3-2021\"],\n",
        "        [\"cat\", 0.5, \"1-2021\"],\n",
        "        [\"dog\", 0.2, \"5-2021\"],\n",
        "        [\"bird\", 3.3, \"3-2021\"],\n",
        "        [\"dog\", 5.7, \"1-2021\"],\n",
        "        [\"dog\", 0.0, \"2-2021\"],\n",
        "        [\"cat\", 1.9, \"4-2021\"],\n",
        "        [\"bird\", 2.4, \"4-2021\"],\n",
        "        [\"bird\", 2.4, \"5-2021\"]\n",
        "    ],\n",
        "    columns=[\"animal\", \"value\", \"date\"]\n",
        ")\n",
        "df.info()"
      ]
    },
    {
      "cell_type": "markdown",
      "source": [
        "**Changing Data Types**\n",
        "\n",
        "astype() function changes column to designated type."
      ],
      "metadata": {
        "id": "3_Qbvcf1KzdS"
      }
    },
    {
      "cell_type": "code",
      "source": [
        "df.loc[:, \"animal\"] = df[\"animal\"].astype(\"category\")\n",
        "df.info()"
      ],
      "metadata": {
        "colab": {
          "base_uri": "https://localhost:8080/"
        },
        "id": "nxkulHSaKSy1",
        "outputId": "2f1ce129-cd73-4f0d-c2f2-27f9d0df0d75"
      },
      "execution_count": 8,
      "outputs": [
        {
          "output_type": "stream",
          "name": "stdout",
          "text": [
            "<class 'pandas.core.frame.DataFrame'>\n",
            "RangeIndex: 9 entries, 0 to 8\n",
            "Data columns (total 3 columns):\n",
            " #   Column  Non-Null Count  Dtype   \n",
            "---  ------  --------------  -----   \n",
            " 0   animal  9 non-null      category\n",
            " 1   value   9 non-null      float64 \n",
            " 2   date    9 non-null      object  \n",
            "dtypes: category(1), float64(1), object(1)\n",
            "memory usage: 385.0+ bytes\n"
          ]
        }
      ]
    },
    {
      "cell_type": "markdown",
      "source": [
        "**Normalizing Data**\n",
        "\n",
        "Transforms numerical data to have specific range of values.\n",
        "\n",
        "Transformations typically have zero mean, meaning their average is 0."
      ],
      "metadata": {
        "id": "3HrHaS2sK-n7"
      }
    },
    {
      "cell_type": "code",
      "source": [
        "from sklearn.preprocessing import StandardScaler\n",
        "\n",
        "scaler = StandardScaler()\n",
        "scaler.fit(df[[\"value\"]])\n",
        "scaler.transform(df[[\"value\"]])"
      ],
      "metadata": {
        "colab": {
          "base_uri": "https://localhost:8080/"
        },
        "id": "R39SK8XhKk9n",
        "outputId": "c823f8e5-fe94-4e7e-c7ef-d648e723857c"
      },
      "execution_count": 9,
      "outputs": [
        {
          "output_type": "execute_result",
          "data": {
            "text/plain": [
              "array([[-0.54744332],\n",
              "       [-0.84071653],\n",
              "       [-1.01668045],\n",
              "       [ 0.80161343],\n",
              "       [ 2.20932483],\n",
              "       [-1.13398974],\n",
              "       [-0.01955155],\n",
              "       [ 0.27372166],\n",
              "       [ 0.27372166]])"
            ]
          },
          "metadata": {},
          "execution_count": 9
        }
      ]
    },
    {
      "cell_type": "markdown",
      "source": [
        "**Parsing Data Types**\n",
        "\n",
        "Pandas to_datetime() method will parse datetime strings.\n",
        "\n",
        "Converts strings to datetime objects"
      ],
      "metadata": {
        "id": "Bl3_rgmALZ3Z"
      }
    },
    {
      "cell_type": "code",
      "source": [
        "pd.to_datetime(df.loc[:, \"date\"])"
      ],
      "metadata": {
        "colab": {
          "base_uri": "https://localhost:8080/"
        },
        "id": "tzMeSqnILRuG",
        "outputId": "31952a7b-16b9-4dec-d115-183d4ef34cb6"
      },
      "execution_count": 10,
      "outputs": [
        {
          "output_type": "execute_result",
          "data": {
            "text/plain": [
              "0   2021-03-01\n",
              "1   2021-01-01\n",
              "2   2021-05-01\n",
              "3   2021-03-01\n",
              "4   2021-01-01\n",
              "5   2021-02-01\n",
              "6   2021-04-01\n",
              "7   2021-04-01\n",
              "8   2021-05-01\n",
              "Name: date, dtype: datetime64[ns]"
            ]
          },
          "metadata": {},
          "execution_count": 10
        }
      ]
    },
    {
      "cell_type": "markdown",
      "source": [
        "**One-hot Encoding**\n",
        "\n",
        "\n",
        "\n",
        "*   Required for models that only take numerical data\n",
        "*   Pandas has a one-hot encoding function,.get_dummies()\n",
        "*   Converts categorical data to many feature columns"
      ],
      "metadata": {
        "id": "hB1fei3pLyAx"
      }
    },
    {
      "cell_type": "code",
      "source": [
        "# prefix parameter will add the name to column name\n",
        "pd.get_dummies(df.animal, prefix=\"animal\")"
      ],
      "metadata": {
        "colab": {
          "base_uri": "https://localhost:8080/",
          "height": 331
        },
        "id": "OhspxVgwLvIk",
        "outputId": "2ed72bdc-d0de-47d6-a167-256938a6ca1a"
      },
      "execution_count": 11,
      "outputs": [
        {
          "output_type": "execute_result",
          "data": {
            "text/html": [
              "\n",
              "  <div id=\"df-e72c1818-d677-4f34-a4d9-2e1b2b0327bc\">\n",
              "    <div class=\"colab-df-container\">\n",
              "      <div>\n",
              "<style scoped>\n",
              "    .dataframe tbody tr th:only-of-type {\n",
              "        vertical-align: middle;\n",
              "    }\n",
              "\n",
              "    .dataframe tbody tr th {\n",
              "        vertical-align: top;\n",
              "    }\n",
              "\n",
              "    .dataframe thead th {\n",
              "        text-align: right;\n",
              "    }\n",
              "</style>\n",
              "<table border=\"1\" class=\"dataframe\">\n",
              "  <thead>\n",
              "    <tr style=\"text-align: right;\">\n",
              "      <th></th>\n",
              "      <th>animal_bird</th>\n",
              "      <th>animal_cat</th>\n",
              "      <th>animal_dog</th>\n",
              "    </tr>\n",
              "  </thead>\n",
              "  <tbody>\n",
              "    <tr>\n",
              "      <th>0</th>\n",
              "      <td>0</td>\n",
              "      <td>1</td>\n",
              "      <td>0</td>\n",
              "    </tr>\n",
              "    <tr>\n",
              "      <th>1</th>\n",
              "      <td>0</td>\n",
              "      <td>1</td>\n",
              "      <td>0</td>\n",
              "    </tr>\n",
              "    <tr>\n",
              "      <th>2</th>\n",
              "      <td>0</td>\n",
              "      <td>0</td>\n",
              "      <td>1</td>\n",
              "    </tr>\n",
              "    <tr>\n",
              "      <th>3</th>\n",
              "      <td>1</td>\n",
              "      <td>0</td>\n",
              "      <td>0</td>\n",
              "    </tr>\n",
              "    <tr>\n",
              "      <th>4</th>\n",
              "      <td>0</td>\n",
              "      <td>0</td>\n",
              "      <td>1</td>\n",
              "    </tr>\n",
              "    <tr>\n",
              "      <th>5</th>\n",
              "      <td>0</td>\n",
              "      <td>0</td>\n",
              "      <td>1</td>\n",
              "    </tr>\n",
              "    <tr>\n",
              "      <th>6</th>\n",
              "      <td>0</td>\n",
              "      <td>1</td>\n",
              "      <td>0</td>\n",
              "    </tr>\n",
              "    <tr>\n",
              "      <th>7</th>\n",
              "      <td>1</td>\n",
              "      <td>0</td>\n",
              "      <td>0</td>\n",
              "    </tr>\n",
              "    <tr>\n",
              "      <th>8</th>\n",
              "      <td>1</td>\n",
              "      <td>0</td>\n",
              "      <td>0</td>\n",
              "    </tr>\n",
              "  </tbody>\n",
              "</table>\n",
              "</div>\n",
              "      <button class=\"colab-df-convert\" onclick=\"convertToInteractive('df-e72c1818-d677-4f34-a4d9-2e1b2b0327bc')\"\n",
              "              title=\"Convert this dataframe to an interactive table.\"\n",
              "              style=\"display:none;\">\n",
              "        \n",
              "  <svg xmlns=\"http://www.w3.org/2000/svg\" height=\"24px\"viewBox=\"0 0 24 24\"\n",
              "       width=\"24px\">\n",
              "    <path d=\"M0 0h24v24H0V0z\" fill=\"none\"/>\n",
              "    <path d=\"M18.56 5.44l.94 2.06.94-2.06 2.06-.94-2.06-.94-.94-2.06-.94 2.06-2.06.94zm-11 1L8.5 8.5l.94-2.06 2.06-.94-2.06-.94L8.5 2.5l-.94 2.06-2.06.94zm10 10l.94 2.06.94-2.06 2.06-.94-2.06-.94-.94-2.06-.94 2.06-2.06.94z\"/><path d=\"M17.41 7.96l-1.37-1.37c-.4-.4-.92-.59-1.43-.59-.52 0-1.04.2-1.43.59L10.3 9.45l-7.72 7.72c-.78.78-.78 2.05 0 2.83L4 21.41c.39.39.9.59 1.41.59.51 0 1.02-.2 1.41-.59l7.78-7.78 2.81-2.81c.8-.78.8-2.07 0-2.86zM5.41 20L4 18.59l7.72-7.72 1.47 1.35L5.41 20z\"/>\n",
              "  </svg>\n",
              "      </button>\n",
              "      \n",
              "  <style>\n",
              "    .colab-df-container {\n",
              "      display:flex;\n",
              "      flex-wrap:wrap;\n",
              "      gap: 12px;\n",
              "    }\n",
              "\n",
              "    .colab-df-convert {\n",
              "      background-color: #E8F0FE;\n",
              "      border: none;\n",
              "      border-radius: 50%;\n",
              "      cursor: pointer;\n",
              "      display: none;\n",
              "      fill: #1967D2;\n",
              "      height: 32px;\n",
              "      padding: 0 0 0 0;\n",
              "      width: 32px;\n",
              "    }\n",
              "\n",
              "    .colab-df-convert:hover {\n",
              "      background-color: #E2EBFA;\n",
              "      box-shadow: 0px 1px 2px rgba(60, 64, 67, 0.3), 0px 1px 3px 1px rgba(60, 64, 67, 0.15);\n",
              "      fill: #174EA6;\n",
              "    }\n",
              "\n",
              "    [theme=dark] .colab-df-convert {\n",
              "      background-color: #3B4455;\n",
              "      fill: #D2E3FC;\n",
              "    }\n",
              "\n",
              "    [theme=dark] .colab-df-convert:hover {\n",
              "      background-color: #434B5C;\n",
              "      box-shadow: 0px 1px 3px 1px rgba(0, 0, 0, 0.15);\n",
              "      filter: drop-shadow(0px 1px 2px rgba(0, 0, 0, 0.3));\n",
              "      fill: #FFFFFF;\n",
              "    }\n",
              "  </style>\n",
              "\n",
              "      <script>\n",
              "        const buttonEl =\n",
              "          document.querySelector('#df-e72c1818-d677-4f34-a4d9-2e1b2b0327bc button.colab-df-convert');\n",
              "        buttonEl.style.display =\n",
              "          google.colab.kernel.accessAllowed ? 'block' : 'none';\n",
              "\n",
              "        async function convertToInteractive(key) {\n",
              "          const element = document.querySelector('#df-e72c1818-d677-4f34-a4d9-2e1b2b0327bc');\n",
              "          const dataTable =\n",
              "            await google.colab.kernel.invokeFunction('convertToInteractive',\n",
              "                                                     [key], {});\n",
              "          if (!dataTable) return;\n",
              "\n",
              "          const docLinkHtml = 'Like what you see? Visit the ' +\n",
              "            '<a target=\"_blank\" href=https://colab.research.google.com/notebooks/data_table.ipynb>data table notebook</a>'\n",
              "            + ' to learn more about interactive tables.';\n",
              "          element.innerHTML = '';\n",
              "          dataTable['output_type'] = 'display_data';\n",
              "          await google.colab.output.renderOutput(dataTable, element);\n",
              "          const docLink = document.createElement('div');\n",
              "          docLink.innerHTML = docLinkHtml;\n",
              "          element.appendChild(docLink);\n",
              "        }\n",
              "      </script>\n",
              "    </div>\n",
              "  </div>\n",
              "  "
            ],
            "text/plain": [
              "   animal_bird  animal_cat  animal_dog\n",
              "0            0           1           0\n",
              "1            0           1           0\n",
              "2            0           0           1\n",
              "3            1           0           0\n",
              "4            0           0           1\n",
              "5            0           0           1\n",
              "6            0           1           0\n",
              "7            1           0           0\n",
              "8            1           0           0"
            ]
          },
          "metadata": {},
          "execution_count": 11
        }
      ]
    }
  ]
}